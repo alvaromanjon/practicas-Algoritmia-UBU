{
 "cells": [
  {
   "cell_type": "markdown",
   "metadata": {},
   "source": [
    "## Algoritmia\n",
    "### Práctica 1\n",
    "**Autor: Álvaro Manjón Vara**\n",
    "\n",
    "El objetivo de esta práctica es trabajar con iteradores y generadores.\n",
    "\n"
   ]
  },
  {
   "cell_type": "markdown",
   "metadata": {},
   "source": [
    "Se pide la implementación de las funciones que aparecen a continuación. \n",
    "\n",
    "En el cuerpo de cada función hay una instrucción \"pass\", se debe sustituir por la implementación adecuada. \n",
    "\n",
    "Para cada función que se pide se proporciona una función con algunos tests. \n",
    "\n",
    "Al llamar a las funciones de test no debería saltar ninguna aserción."
   ]
  },
  {
   "cell_type": "markdown",
   "metadata": {},
   "source": [
    "### `iterador_con_sustitucion`"
   ]
  },
  {
   "cell_type": "code",
   "execution_count": 1,
   "metadata": {},
   "outputs": [],
   "source": [
    "def iterador_con_sustitucion(iterable, cambios):\n",
    "    \"\"\"\n",
    "    Dado un iterable genera sus valores una vez aplicadas las sustituciones \n",
    "    indicadas por el diccionario de cambios.\n",
    "    Los valores no hay que devolverlos todos a la vez, se deben generar de uno \n",
    "    en uno.\n",
    "    \"\"\"\n",
    "\n",
    "    for i in iterable:\n",
    "        yield cambios.get(i, i)"
   ]
  },
  {
   "cell_type": "code",
   "execution_count": 2,
   "metadata": {},
   "outputs": [
    {
     "name": "stdout",
     "output_type": "stream",
     "text": [
      "OK\n"
     ]
    }
   ],
   "source": [
    "def test_iterador_con_sustitucion(): \n",
    "    \"\"\"\n",
    "    Casos de prueba para iterador_con_sustitucion().\n",
    "    \"\"\"\n",
    "    \n",
    "    for iterable, cambios, iterable_sustituido in (\n",
    "        ([1, 2, 3, 4, 1, 2], {2: 1, 1: 2, 3: 5}, [2, 1, 5, 4, 2, 1]),\n",
    "        ([1, 2, 3, 4, 1, 2] * 100, {2: 1, 1: 2, 3: 5}, \n",
    "            [2, 1, 5, 4, 2, 1] * 100),\n",
    "        (\"abcdb\" * 100, {'a': 'z', 'b': 'a', 'd': 'y'},\n",
    "            ['z', 'a', 'c', 'y', 'a'] * 100)\n",
    "    ):\n",
    "        assert (list(iterador_con_sustitucion(iterable, cambios)) \n",
    "                == iterable_sustituido)\n",
    "        it = iterador_con_sustitucion(iterable, cambios)\n",
    "        for e in iterable_sustituido:\n",
    "            assert e == next(it)\n",
    "            \n",
    "    for v in iterador_con_sustitucion(range(10**100), {0: 0}):\n",
    "        if v >= 100:\n",
    "            break\n",
    "            \n",
    "    return True\n",
    "            \n",
    "if __name__ == \"__main__\": \n",
    "    test_iterador_con_sustitucion()\n",
    "    print(\"OK\")  "
   ]
  },
  {
   "cell_type": "markdown",
   "metadata": {},
   "source": [
    "### `iterador_anidado`"
   ]
  },
  {
   "cell_type": "code",
   "execution_count": 3,
   "metadata": {},
   "outputs": [],
   "source": [
    "import collections.abc   # por si es necesario usar collections.Iterable\n",
    "\n",
    "def iterador_anidado(elemento):\n",
    "    \"\"\"\n",
    "    Iterador que genera los valores en elemento recursivamente: si elemento no \n",
    "    es iterable genera solo elemento, pero si elemento es iterable genera sus\n",
    "    elementos de manera recursiva.\n",
    "    Los valores se deben generar de uno en uno.\n",
    "    \"\"\"\n",
    "    \n",
    "    if isinstance(elemento, collections.abc.Iterable):\n",
    "        for i in elemento:\n",
    "            yield from iterador_anidado(i) # Crea un generador de un iterador\n",
    "    else:\n",
    "        yield elemento"
   ]
  },
  {
   "cell_type": "code",
   "execution_count": 4,
   "metadata": {},
   "outputs": [
    {
     "name": "stdout",
     "output_type": "stream",
     "text": [
      "OK\n"
     ]
    }
   ],
   "source": [
    "def test_iterador_anidado():\n",
    "    \"\"\"\n",
    "    Casos de prueba para iterador_anidado()\n",
    "    \"\"\"\n",
    "    \n",
    "    assert isinstance([4], collections.abc.Iterable)\n",
    "\n",
    "    assert not isinstance(4, collections.abc.Iterable)\n",
    "    \n",
    "    assert list(iterador_anidado(4)) == [4]\n",
    "\n",
    "    assert list(iterador_anidado([4])) == [4]\n",
    "\n",
    "    assert list(iterador_anidado((4,))) == [4]\n",
    "\n",
    "    assert list(iterador_anidado([[4]])) == [4]\n",
    "\n",
    "    assert list(iterador_anidado([1, [2, [3], 4]])) == [1, 2, 3, 4]\n",
    "\n",
    "    l1 = []; l2 = []; l3 = []\n",
    "    for i in range(100):\n",
    "        l1 += [i]\n",
    "        l2 = [l2, i]\n",
    "        assert l1 == list(iterador_anidado(l2))\n",
    "        l3 = [(l3, [i])]\n",
    "        assert l1 == list(iterador_anidado(l3))\n",
    "        \n",
    "    for v in iterador_anidado(range(10**100)):\n",
    "        if v > 100:\n",
    "            break\n",
    "    \n",
    "    return True\n",
    "\n",
    "if __name__ == \"__main__\": \n",
    "    test_iterador_anidado()\n",
    "    print(\"OK\")"
   ]
  },
  {
   "cell_type": "markdown",
   "metadata": {},
   "source": [
    "### `generador_media_movil`"
   ]
  },
  {
   "cell_type": "code",
   "execution_count": 5,
   "metadata": {},
   "outputs": [],
   "source": [
    "def generador_media_movil(iterable, longitud):\n",
    "    \"\"\"\n",
    "    Dado un iterable de valores numéricos, genera los valores de la media móvil \n",
    "    de la longitud indicada.\n",
    "    Por ejemplo, si la longitud es 3, generaría la media de los 3 primeros\n",
    "    valores, de los valores del 2º al 4º, de los valores del 3º al 5º...\n",
    "    Los valores se deben generar de uno en uno.\n",
    "    \"\"\" \n",
    "    \n",
    "    sub = []\n",
    "    for i in iterable:\n",
    "        sub.append(i)\n",
    "        if len(sub) < longitud:\n",
    "            continue\n",
    "        yield sum(sub) / longitud\n",
    "        sub.pop(0)"
   ]
  },
  {
   "cell_type": "code",
   "execution_count": 6,
   "metadata": {},
   "outputs": [
    {
     "name": "stdout",
     "output_type": "stream",
     "text": [
      "OK\n"
     ]
    }
   ],
   "source": [
    "def test_generador_media_movil(): \n",
    "    \"\"\"\n",
    "    Casos de prueba para generador_media_movil().\n",
    "    \"\"\"\n",
    "    \n",
    "    for secuencia in (list(range(10)), tuple(range(10)), range(10)):\n",
    "        assert (list(generador_media_movil(secuencia, 1))\n",
    "                == [0.0, 1.0, 2.0, 3.0, 4.0, 5.0, 6.0, 7.0, 8.0, 9.0])\n",
    "        assert (list(generador_media_movil(secuencia, 2))\n",
    "                == [0.5, 1.5, 2.5, 3.5, 4.5, 5.5, 6.5, 7.5, 8.5])\n",
    "        assert (list(generador_media_movil(secuencia, 3))\n",
    "                == [1.0, 2.0, 3.0, 4.0, 5.0, 6.0, 7.0, 8.0])   \n",
    "        assert (list(generador_media_movil(secuencia, 4)) \n",
    "                == [1.5, 2.5, 3.5, 4.5, 5.5, 6.5, 7.5])  \n",
    "        assert (list(generador_media_movil(secuencia, 5))\n",
    "                == [2.0, 3.0, 4.0, 5.0, 6.0, 7.0])  \n",
    "\n",
    "    assert list(generador_media_movil(range(100), 1)) == list(range(100))    \n",
    "    assert list(generador_media_movil(range(100), 3)) == list(range(1, 99))    \n",
    "    assert list(generador_media_movil(range(100), 5)) == list(range(2, 98))\n",
    "    \n",
    "    assert list(generador_media_movil(range(100), 2)) == [x + 0.5 for x in range(99)]\n",
    "    assert list(generador_media_movil(range(100), 4)) == [x + 1.5 for x in range(97)]\n",
    "\n",
    "    assert (list(generador_media_movil(range(100, 0, -1), 1)) \n",
    "            == list(range(100, 0, -1)))\n",
    "    assert (list(generador_media_movil(range(100, 0, -1), 3)) \n",
    "            == list(range(99, 1, -1)))\n",
    "    assert (list(generador_media_movil(range(100, 0, -1), 5)) \n",
    "            == list(range(98, 2, -1)))\n",
    "    \n",
    "    it = generador_media_movil(range(1000),4)\n",
    "    for v in range(997):\n",
    "        assert next(it) == v + 1.5 \n",
    "        \n",
    "    assert list(generador_media_movil([1, 2] * 1000, 2)) == [1.5] * 1999     \n",
    "    assert list(generador_media_movil([1, 2] * 1000, 3)) == [4/3, 5/3] * 999\n",
    "       \n",
    "    for v in generador_media_movil(range(10**100), 10):\n",
    "        if v >= 100:\n",
    "            break\n",
    "        \n",
    "    return True\n",
    "\n",
    "if __name__ == \"__main__\": \n",
    "    test_generador_media_movil()\n",
    "    print(\"OK\")"
   ]
  },
  {
   "cell_type": "markdown",
   "metadata": {},
   "source": [
    "### `iterador_incluido`"
   ]
  },
  {
   "cell_type": "code",
   "execution_count": 7,
   "metadata": {},
   "outputs": [],
   "source": [
    "def iterador_incluido(itera_1, itera_2):\n",
    "    \"\"\"\n",
    "    Dado un primer iterador o iterable, comprueba que sus elementos están\n",
    "    incluidos en el mismo orden en los elementos de un segundo iterador o \n",
    "    iterable.\n",
    "    \"\"\"\n",
    "    \n",
    "    iterador_1 = iter(itera_1)\n",
    "    iterador_2 = iter(itera_2)\n",
    "    \n",
    "    try:\n",
    "        elemento_1 = next(iterador_1)\n",
    "    except StopIteration:\n",
    "        return True\n",
    "    \n",
    "    for elemento_2 in iterador_2:\n",
    "        if elemento_1 == elemento_2:\n",
    "            try:\n",
    "                elemento_1 = next(iterador_1)\n",
    "            except StopIteration:\n",
    "                return True\n",
    "    else:\n",
    "        return False"
   ]
  },
  {
   "cell_type": "code",
   "execution_count": 8,
   "metadata": {},
   "outputs": [
    {
     "name": "stdout",
     "output_type": "stream",
     "text": [
      "OK\n"
     ]
    }
   ],
   "source": [
    "def test_iterador_incluido():\n",
    "    \"\"\"\n",
    "    Casos de prueba para iterador_incluido().\n",
    "    \"\"\"\n",
    "    \n",
    "    assert iterador_incluido(range(100), range(100))     \n",
    "    assert iterador_incluido(range(99), range(100))     \n",
    "    assert iterador_incluido(range(1,100), range(100))     \n",
    "\n",
    "    assert not iterador_incluido(range(100), range(99))\n",
    "    assert not iterador_incluido(range(100), range(1, 100))\n",
    "    \n",
    "    assert iterador_incluido(range(10, 90, 3), range(100))\n",
    "    assert not iterador_incluido(range(10, 110, 3), range(100))\n",
    "\n",
    "    assert not iterador_incluido(range(10, 110, 3), range(100))    \n",
    "    \n",
    "    l = list(range(10, 90, 3))\n",
    "    assert iterador_incluido(l, range(100))\n",
    "    l[20] = 11\n",
    "    assert not iterador_incluido(l, range(100))\n",
    "    assert not iterador_incluido(iter(l), range(100))\n",
    "    \n",
    "    assert iterador_incluido(range(1000), range(10**100))\n",
    "    assert not iterador_incluido(range(10**100), range(1000))\n",
    "    \n",
    "    return True\n",
    "    \n",
    "if __name__ == \"__main__\": \n",
    "    test_iterador_incluido()\n",
    "    print(\"OK\")    "
   ]
  }
 ],
 "metadata": {
  "anaconda-cloud": {},
  "kernelspec": {
   "display_name": "Python 3 (ipykernel)",
   "language": "python",
   "name": "python3"
  },
  "language_info": {
   "codemirror_mode": {
    "name": "ipython",
    "version": 3
   },
   "file_extension": ".py",
   "mimetype": "text/x-python",
   "name": "python",
   "nbconvert_exporter": "python",
   "pygments_lexer": "ipython3",
   "version": "3.9.13"
  },
  "vscode": {
   "interpreter": {
    "hash": "2a7084dce4a57fabdb294815b03e7954449d6920124286f14e8400459bb21104"
   }
  }
 },
 "nbformat": 4,
 "nbformat_minor": 1
}
