{
 "cells": [
  {
   "cell_type": "markdown",
   "metadata": {
    "collapsed": true
   },
   "source": [
    "# Algoritmia\n",
    "## Práctica 3\n",
    "El objetivo de esta práctica es trabajar con recurrencias"
   ]
  },
  {
   "cell_type": "markdown",
   "metadata": {},
   "source": [
    "Se pide la implementación de las funciones que aparecen a continuación. \n",
    "\n",
    "En el cuerpo de cada función hay una instrucción \"pass\", se debe sustituir por la implementación adecuada. \n",
    "\n",
    "Para cada clase o función que se pide se proporcionan algunos tests. Las implementaciones deberían superar estos tests."
   ]
  },
  {
   "cell_type": "markdown",
   "metadata": {},
   "source": [
    "## Preámbulo"
   ]
  },
  {
   "cell_type": "code",
   "execution_count": null,
   "metadata": {},
   "outputs": [],
   "source": [
    "# Importaciones\n",
    "import unittest\n",
    "from math import log"
   ]
  },
  {
   "cell_type": "markdown",
   "metadata": {},
   "source": [
    "## Generador de valores de una recurrencia\n",
    "Dada una recurrencia, se quiere generar valores de la misma"
   ]
  },
  {
   "cell_type": "markdown",
   "metadata": {},
   "source": [
    "### Función `generador_recurrencia`"
   ]
  },
  {
   "cell_type": "code",
   "execution_count": null,
   "metadata": {},
   "outputs": [],
   "source": [
    "def generador_recurrencia(coeficientes, funcion_adicional, iniciales):\n",
    "    \"\"\"\n",
    "    Generador de valores de acuerdo a una recurrencia:\n",
    "    F(n) = coeficientes[0]*F(n-1) + coeficientes[1]*F(n-2) + ...\n",
    "         + funcion_adicional(n)\n",
    "    Los valores iniciales son F(0) = iniciales[0], F(1) = iniciales[1],...\n",
    "    Los valores que se generan son F(0), F(1), F(2),...\n",
    "    Se deben generar los valores de uno en uno, no hay que devolver varios.\n",
    "    Debe generar valores indefinidamente, no hay que poner límites.\n",
    "    Aunque sea una recurrencia, los valores *no* deben calcularse recursivamente.\n",
    "    \"\"\"\n",
    "    \n",
    "    pass"
   ]
  },
  {
   "cell_type": "markdown",
   "metadata": {},
   "source": [
    "### Tests para `generador_recurrencia`"
   ]
  },
  {
   "cell_type": "code",
   "execution_count": null,
   "metadata": {},
   "outputs": [],
   "source": [
    "class TestGeneradorRecurrencia(unittest.TestCase):\n",
    "    \n",
    "    @staticmethod\n",
    "    def comprueba_recurrencia(coeficientes, funcion_adicional, iniciales,\n",
    "                              funcion_alternativa, numero_comprobaciones=100, \n",
    "                              epsilon=0.1):\n",
    "        \"\"\"\n",
    "        Dada una recurrencia (definida en términos de sus coeficientes,\n",
    "        condiciones inciales y la función_adicional) comprueba si los valores\n",
    "        generados son (aproximadamente) los mismos que los definidos por una función\n",
    "        alternativa, para un determinado número de comprobaciones.\n",
    "        \"\"\"\n",
    "    \n",
    "        iterador = generador_recurrencia(coeficientes, funcion_adicional, \n",
    "                                         iniciales)\n",
    "        for n in range(numero_comprobaciones):\n",
    "            if abs(next(iterador) - funcion_alternativa(n)) > epsilon:\n",
    "                return False\n",
    "        return True\n",
    "    \n",
    "    \"\"\"\n",
    "    Nomenclatura de los tests: test_X_Y_Z.\n",
    "        X representa los coeficientes. Usamos \"n\" para valores negativos.\n",
    "        Y representa la función. Usamos \"d\" para la división, \"p\" para la \n",
    "        potencia.\n",
    "        Z representa las condiciones inciales.\n",
    "    \"\"\"\n",
    "          \n",
    "    def test_1_1_0(self):\n",
    "        # Recurrencia f(0)=0, f(n)=f(n-1)+1, que se corresponde con f(n)=n\n",
    "        self.assertTrue(self.comprueba_recurrencia([1], lambda n: 1, [0], lambda n: n))\n",
    "        \n",
    "    def test_2_0_1(self):        \n",
    "        # Recurrencia f(0)=1, f(n)=2*f(n-1), que se corresponde con f(n)=2**n\n",
    "        self.assertTrue(self.comprueba_recurrencia([2], lambda n: 0, [1], lambda n: 2**n))\n",
    "\n",
    "    def test_1_n_0(self):        \n",
    "        # Recurrencia f(0)=0, f(n)=f(n-1)+n, que se corresponde con \n",
    "        # f(n)=n*(n+1)/2\n",
    "        self.assertTrue(self.comprueba_recurrencia([1], lambda n: n, [0],\n",
    "                                                   lambda n: n * (n + 1) / 2))\n",
    "        \n",
    "    def test_1_nd2_0(self):        \n",
    "        # Recurrencia f(0)=0, f(n)=f(n-1)+n/2, que se corresponde con\n",
    "        # f(n)=n*(n+1)/4\n",
    "        self.assertTrue(self.comprueba_recurrencia([1], lambda n: n / 2, [0], \n",
    "                                                   lambda n: n * (n + 1) / 4))\n",
    "        \n",
    "    def test_1_2pn_1(self):        \n",
    "        # Recurrencia f(0)=1, f(n)=f(n-1)+2**n, que se corresponde con\n",
    "        # f(n)=2**(n+1)-1\n",
    "        self.assertTrue(self.comprueba_recurrencia([1], lambda n: 2 ** n, [1],\n",
    "                                                   lambda n: 2 ** (n + 1) - 1))\n",
    "\n",
    "    def test_4n4_0_01(self):        \n",
    "        # Recurrencia f(0)=0, f(1)=1, f(n)=4f(n-1)-4f(n-2), que se corresponde\n",
    "        # con f(n)=2**(n-1)*n\n",
    "        self.assertTrue(self.comprueba_recurrencia([4, -4], lambda n: 0, [0, 1],\n",
    "                                                   lambda n: 2 ** (n - 1) * n))\n",
    "\n",
    "    def test_2n1_1_01(self):        \n",
    "        # Recurrencia f(0)=0, f(1)=1, f(n)=2f(n-1)-f(n-2)+1, que se corresponde\n",
    "        # con f(n)=n*(n+1)/2\n",
    "        self.assertTrue(self.comprueba_recurrencia([2, -1], lambda n: 1, [0, 1], \n",
    "                                                   lambda n: n * (n + 1) / 2))\n",
    "        \n",
    "    def test_11n1_0_012(self):        \n",
    "        # Recurrencia f(0)=0, f(1)=1, f(2)=2, f(n)=f(n-1)+f(n-2)-f(n-3), que se\n",
    "        # corresponde con f(n)=n\n",
    "        self.assertTrue(self.comprueba_recurrencia([1, 1, -1], \n",
    "                                                   lambda n: 0, [0, 1, 2], \n",
    "                                                   lambda n: n))    "
   ]
  },
  {
   "cell_type": "markdown",
   "metadata": {},
   "source": [
    "## Recurrencias del teorema maestro\n",
    "Se trabaja con recurrencias del tipo que se consideran en el teorema maestro.\n"
   ]
  },
  {
   "cell_type": "markdown",
   "metadata": {},
   "source": [
    "### Clase `RecurrenciaMaestra`"
   ]
  },
  {
   "cell_type": "code",
   "execution_count": null,
   "metadata": {},
   "outputs": [],
   "source": [
    "class RecurrenciaMaestra: \n",
    "    \"\"\"\n",
    "    Clase que representa una recurrencia de las que se consideran en el \n",
    "    teorema maestro, de la forma T(n)=aT(n/b)+n^k. Se interpreta que en n/b\n",
    "    la división es entera.\n",
    "    Además de los métodos que aparecen a continuación, tienen que funcionar \n",
    "    los siguientes operadores: \n",
    "        ==, !=,\n",
    "        str(): la representación como cadena debe ser 'aT(n/b)+n^k'\n",
    "        []: el parámetro entre corchetes es el valor de n para calcular T(n).\n",
    "    \"\"\"\n",
    "    \n",
    "    def __init__(self, a, b, k, inicial = 0):\n",
    "        \"\"\"\n",
    "        Constructor de la clase, los parámetros a, b, y k son los que\n",
    "        aparecen en la fórmula aT(n/b)+n^k. El parámetro inicial es el valor\n",
    "        para T(0).\n",
    "        \"\"\"\n",
    "        \n",
    "        pass\n",
    "        \n",
    "    def metodo_maestro(self):\n",
    "        \"\"\"\n",
    "        Devuelve una cadena con el tiempo de la recurrencia de acuerdo al \n",
    "        método maestro. La salida está en el formato \"O(n^x)\" o \"O(n^x*log(n))\",\n",
    "        siendo x un número.\n",
    "        \"\"\"\n",
    "        \n",
    "        pass\n",
    "       \n",
    "    def __iter__(self):\n",
    "        \"\"\"\n",
    "        Generador de valores de la recurrencia: T(0), T(1), T(2), T(3)..., \n",
    "        indefinidamente.\n",
    "        Aunque sea una recurrencia, los valores *no* deben calcularse \n",
    "        recursivamente.\n",
    "        \"\"\"\n",
    "        \n",
    "        pass     "
   ]
  },
  {
   "cell_type": "markdown",
   "metadata": {},
   "source": [
    "### Tests para `RecurrenciaMaestra`"
   ]
  },
  {
   "cell_type": "code",
   "execution_count": null,
   "metadata": {},
   "outputs": [],
   "source": [
    "class TestRecurrenciaMaestra(unittest.TestCase):\n",
    "           \n",
    "    def test_teorema_3_2_2(self):\n",
    "        # Recurrencia T(n)=3T(n/2)+O(n^2)\n",
    "        resultado = RecurrenciaMaestra(3, 2, 2).metodo_maestro()\n",
    "        self.assertEqual(resultado, \"O(n^2)\")\n",
    "\n",
    "    def test_teorema_2_2_1(self):\n",
    "        # Recurrencia T(n)=2T(n/2)+O(n)\n",
    "        resultado = RecurrenciaMaestra(2, 2, 1).metodo_maestro()\n",
    "        self.assertEqual(resultado, \"O(n^1*log(n))\")\n",
    "\n",
    "    def test_teorema_3_2_1(self):\n",
    "        # Recurrencia T(n)=3T(n/2)+O(n)\n",
    "        resultado = RecurrenciaMaestra(3, 2, 1).metodo_maestro()\n",
    "        # esperamos algo parecido a \"O(n^1.5849625007211563)\"\n",
    "        self.assertTrue(\"O(n^1.58\" in resultado)\n",
    "        self.assertTrue(\"log\" not in resultado)\n",
    "        \n",
    "    def test_operador_eq(self):\n",
    "        # Tests para los operadores == y !=\n",
    "\n",
    "        r = RecurrenciaMaestra(2, 2, 2)\n",
    "\n",
    "        self.assertTrue(r == RecurrenciaMaestra(2, 2, 2))\n",
    "        self.assertFalse(r != RecurrenciaMaestra(2, 2, 2))\n",
    "        for a, b, k in ((1, 1, 1), (1, 1, 2), (1, 2, 1), (2, 1, 1) ):\n",
    "            self.assertTrue(r != RecurrenciaMaestra(a, b, k))\n",
    "            self.assertFalse(r == RecurrenciaMaestra(a, b, k))\n",
    "\n",
    "    def test_operador_str(self):\n",
    "        # Tests para str()\n",
    "        self.assertEqual(str(RecurrenciaMaestra(2, 2, 2)), \"2T(n/2)+n^2\")\n",
    "        self.assertEqual(str(RecurrenciaMaestra(7, 4, 3)), \"7T(n/4)+n^3\")\n",
    "\n",
    "    # Tests para []        \n",
    "    \n",
    "    def test_operador_getitem_222(self):        \n",
    "       \n",
    "        r = RecurrenciaMaestra(2, 2, 2)\n",
    "        for n, valor in enumerate((0, 1, 6, 11, 28, 37, 58, 71, 120, 137, 174, \n",
    "                                   195, 260, 285, 338, 367, 496, 529, 598, 635)):\n",
    "            self.assertEqual(r[n], valor)\n",
    "\n",
    "    def test_operador_getitem_1201(self):        \n",
    "\n",
    "        r = RecurrenciaMaestra(1, 2, 0, 1) \n",
    "        for n, valor in enumerate((1, 2, 3, 3, 4, 4, 4, 4, 5, 5, 5, 5, 5, 5, 5, \n",
    "                                   5, 6, 6, 6, 6)):\n",
    "            self.assertEqual(r[n], valor)\n",
    "\n",
    "    def test_operador_getitem_431(self):        \n",
    "        \n",
    "        r = RecurrenciaMaestra(4, 3, 1)\n",
    "        for n, valor in enumerate((0, 1, 2, 7, 8, 9, 14, 15, 16, 37, 38, 39, 44,\n",
    "                                   45, 46, 51, 52, 53, 74, 75)):\n",
    "            self.assertEqual(r[n], valor)\n",
    "            \n",
    "    # Casos de prueba para la generación sobre RecurrenciaMaestra.\n",
    "    \n",
    "    def comprueba_generacion(self, recurrencia, valores):\n",
    "        it = iter(recurrencia)\n",
    "        for v in valores:\n",
    "            self.assertEqual(v, next(it))\n",
    "            \n",
    "    def test_generacion_222(self):\n",
    "        self.comprueba_generacion(\n",
    "            RecurrenciaMaestra(2, 2, 2), \n",
    "            (0, 1, 6, 11, 28, 37, 58, 71, 120, 137, 174, 195, 260, 285, 338, \n",
    "             367, 496, 529, 598, 635))\n",
    "            \n",
    "    def test_generacion_1201(self):            \n",
    "        self.comprueba_generacion(\n",
    "            RecurrenciaMaestra(1, 2, 0, 1), \n",
    "            (1, 2, 3, 3, 4, 4, 4, 4, 5, 5, 5, 5, 5, 5, 5, 5, 6, 6, 6, 6))\n",
    "\n",
    "    def test_generacion_431(self):            \n",
    "        self.comprueba_generacion(\n",
    "            RecurrenciaMaestra(4, 3, 1),\n",
    "            (0, 1, 2, 7, 8, 9, 14, 15, 16, 37, 38, 39, 44, 45, 46, 51, 52, 53,\n",
    "             74, 75))"
   ]
  },
  {
   "cell_type": "markdown",
   "metadata": {},
   "source": [
    "## Ejecución de tests"
   ]
  },
  {
   "cell_type": "code",
   "execution_count": null,
   "metadata": {},
   "outputs": [],
   "source": [
    "if __name__ == '__main__':\n",
    "    unittest.main(argv=['first-arg-is-ignored'], exit=False)"
   ]
  }
 ],
 "metadata": {
  "kernelspec": {
   "display_name": "Python 3",
   "language": "python",
   "name": "python3"
  },
  "language_info": {
   "codemirror_mode": {
    "name": "ipython",
    "version": 3
   },
   "file_extension": ".py",
   "mimetype": "text/x-python",
   "name": "python",
   "nbconvert_exporter": "python",
   "pygments_lexer": "ipython3",
   "version": "3.6.12"
  }
 },
 "nbformat": 4,
 "nbformat_minor": 1
}
