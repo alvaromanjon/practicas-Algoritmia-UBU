{
 "cells": [
  {
   "cell_type": "markdown",
   "metadata": {
    "collapsed": true
   },
   "source": [
    "# Algoritmia\n",
    "## Práctica 2\n",
    "El objetivo de esta práctica es trabajar con iteradores y generadores."
   ]
  },
  {
   "cell_type": "markdown",
   "metadata": {},
   "source": [
    "Se pide la implementación de las funciones que aparecen a continuación. \n",
    "\n",
    "En el cuerpo de cada función hay una instrucción ```pass```, se debe sustituir por la implementación adecuada.\n",
    "\n",
    "Para cada función que se pide se proporcionan algunos tests. Las implementaciones deberían superar estos tests."
   ]
  },
  {
   "cell_type": "markdown",
   "metadata": {},
   "source": [
    "## Preámbulo"
   ]
  },
  {
   "cell_type": "code",
   "execution_count": null,
   "metadata": {},
   "outputs": [],
   "source": [
    "# Importaciones\n",
    "import unittest\n",
    "from itertools import chain, count, cycle, repeat, zip_longest"
   ]
  },
  {
   "cell_type": "code",
   "execution_count": null,
   "metadata": {},
   "outputs": [],
   "source": [
    "# Número de iteraciones que se usan en algunos tests.\n",
    "# Cuando se está realizando la práctica puede ser conveniente utilizar un valor más pequeño para que vaya más rápido.\n",
    "# Pero una vez finalizada debería poder ejecutarse con este valor en un tiempo de minutos.\n",
    "num_iteraciones_test = 10**7"
   ]
  },
  {
   "cell_type": "markdown",
   "metadata": {},
   "source": [
    "## Secuencia generalizada de Fibonacci\n",
    "En la secuencia de Fibonacci, cada valor se obtiene sumando los dos anteriores. Se considera una generalización en la que cada valor se obtiene sumando los *k* anteriores:\n",
    "- F(0) = ... = F(k-1) = 1\n",
    "- F(n) = F(n-1) + ... + F(n-k+1)"
   ]
  },
  {
   "cell_type": "markdown",
   "metadata": {},
   "source": [
    "### Función `fibonacci_generalizado`"
   ]
  },
  {
   "cell_type": "code",
   "execution_count": null,
   "metadata": {},
   "outputs": [],
   "source": [
    "def fibonacci_generalizado(k, iniciales = None):\n",
    "    \"\"\"\n",
    "    Genera indefinidamente valores de la secuencia generalizada de Fibonacci.\n",
    "    Cada valor, salvo los iniciales, es la suma de los k anteriores.\n",
    "    Los valores iniciales, que deben ser k, son los valores de F(0) ... F(k-1).\n",
    "    El valor por defecto de los valores iniciales es 1.\n",
    "    El espacio de memoria utilizado debería ser O(k)\n",
    "    \"\"\"\n",
    "    if iniciales is None:\n",
    "        iniciales = [1] * k\n",
    "    assert len(iniciales) == k\n",
    "    yield from iniciales\n",
    "    anteriores = iniciales\n",
    "    while True:\n",
    "        yield sum(anteriores)\n",
    "        anteriores = anteriores[1:] + [sum(anteriores)]"
   ]
  },
  {
   "cell_type": "markdown",
   "metadata": {},
   "source": [
    "### Tests para `fibonacci_generalizado`"
   ]
  },
  {
   "cell_type": "code",
   "execution_count": null,
   "metadata": {},
   "outputs": [],
   "source": [
    "class TestFibonacciGeneralizado(unittest.TestCase):\n",
    "    \n",
    "    def setUp(self):\n",
    "        # Distintos casos de prueba formados por k (el orden de la secuencia),\n",
    "        # los valores iniciales y el inicio de la secuencia que se debe\n",
    "        # generar\n",
    "        self.casos_prueba = (\n",
    "            (2, None, [1, 1, 2, 3, 5, 8, 13, 21, 34]),\n",
    "            (2, [2, 2], [2, 2, 4, 6, 10, 16, 26, 42]),\n",
    "            (3, None, [1, 1, 1, 3, 5, 9, 17, 31, 57]),\n",
    "            (4, None, [1, 1, 1, 1, 4, 7, 13, 25, 49]),\n",
    "        )\n",
    "        \n",
    "    def test_1(self):\n",
    "        # Primera comprobación de los casos de prueba\n",
    "        for k, iniciales, secuencia in self.casos_prueba:\n",
    "            i = 0\n",
    "            for v in fibonacci_generalizado(k, iniciales):\n",
    "                if i >= len(secuencia):\n",
    "                    break\n",
    "                self.assertEqual(v, secuencia[i])\n",
    "                i += 1\n",
    "            assert i == len(secuencia)\n",
    "\n",
    "    def test_2(self):\n",
    "        # Segunda comprobación de los casos de prueba\n",
    "        for k, iniciales, secuencia in self.casos_prueba:\n",
    "            for v, w in zip(fibonacci_generalizado(k, iniciales), secuencia):\n",
    "                self.assertEqual(v, w)\n",
    "                \n",
    "    def test_3(self):\n",
    "        # Tercera comprobación de los casos de prueba\n",
    "        for k, iniciales, secuencia in self.casos_prueba: \n",
    "            generador = fibonacci_generalizado(k, iniciales)\n",
    "            for v in secuencia:\n",
    "                self.assertEqual(v, next(generador))\n",
    "                \n",
    "    def test_muchos_valores(self):\n",
    "        # Comprobación de que se generan muchos valores\n",
    "        generador = fibonacci_generalizado(4, [0, 0, 0, 0])\n",
    "        for _ in range(num_iteraciones_test):\n",
    "            self.assertEqual(next(generador), 0)"
   ]
  },
  {
   "cell_type": "markdown",
   "metadata": {},
   "source": [
    "## Iterador repetido\n",
    "Dado un iterador o iterable, se quiere generar sus elementos repetidamente, donde el número de repeticiones de cada elemento viene dado por un segundo iterador o iterable."
   ]
  },
  {
   "cell_type": "markdown",
   "metadata": {},
   "source": [
    "### Función `iter_repetido`"
   ]
  },
  {
   "cell_type": "code",
   "execution_count": null,
   "metadata": {},
   "outputs": [],
   "source": [
    "def iter_repetido(itera, repeticiones):\n",
    "    \"\"\"\n",
    "    Genera los elementos del primer argumento tantas veces como el elemento \n",
    "    correspondiente del segundo argumento.\n",
    "    Se espera que los elementos del segundo argumento sean números naturales.\n",
    "    El primer elemento del primer argumento se genera tantas veces como el \n",
    "    primer elemento del segundo argumento, ... el elemento i-ésimo del primer \n",
    "    argumento se genera tantas veces como el elemento i-ésimo del segundo\n",
    "    argumento...\n",
    "    Si el número de elementos de los dos argumentos fuera diferente, se\n",
    "    generarán elementos hasta que uno se quede sin elementos.\n",
    "    \"\"\"\n",
    "\n",
    "    for iter, repe in zip(itera, repeticiones):\n",
    "        yield from repeat(iter, repe)"
   ]
  },
  {
   "cell_type": "markdown",
   "metadata": {},
   "source": [
    "### Tests para `iter_repetido`"
   ]
  },
  {
   "cell_type": "code",
   "execution_count": null,
   "metadata": {},
   "outputs": [],
   "source": [
    "class TestIterRepetido(unittest.TestCase):\n",
    "    \n",
    "    def setUp(self):\n",
    "        # Distintos casos de prueba formados por el iterable, las repeticiones\n",
    "        # y la lista de valores que se deben generar\n",
    "        self.casos_prueba = (\n",
    "            (\"abc\", [3, 0, 2], ['a', 'a', 'a', 'c', 'c']),\n",
    "            (\"abcd\", [3, 0, 2], ['a', 'a', 'a', 'c', 'c']),\n",
    "            (\"abc\", [3, 0, 2, 4], ['a', 'a', 'a', 'c', 'c']),\n",
    "            (range(3), range(1, 4), [0, 1, 1, 2, 2, 2])\n",
    "    )\n",
    "        \n",
    "    def test_1(self):\n",
    "        # Primera comprobación de los casos de prueba\n",
    "        for iterable, repeticiones, lista in self.casos_prueba:\n",
    "            self.assertEqual(list(iter_repetido(iterable, repeticiones)), \n",
    "                             lista)\n",
    "\n",
    "    def test_2(self):\n",
    "        # Segunda comprobación de los casos de prueba\n",
    "        for iterable, repeticiones, lista in self.casos_prueba:\n",
    "            for v, w in zip_longest(iter_repetido(iterable, repeticiones), \n",
    "                                    lista):\n",
    "                self.assertEqual(v, w)\n",
    "\n",
    "    def test_3(self):\n",
    "        # Tercera comprobación de los casos de prueba        \n",
    "        for iterable, repeticiones, lista in self.casos_prueba:\n",
    "            generador = iter_repetido(iterable, repeticiones)\n",
    "            for v in lista:\n",
    "                self.assertEqual(v, next(generador))\n",
    "                \n",
    "    def test_muchos_valores_1(self):\n",
    "        # Primera comprobación de que se generan muchos valores\n",
    "        generador = iter_repetido(count(), repeat(1))\n",
    "        for i in range(num_iteraciones_test):\n",
    "            self.assertEqual(i, next(generador))\n",
    "\n",
    "    def test_muchos_valores_2(self):\n",
    "        # Segunda comprobación de que se generan muchos valores\n",
    "        repeticiones = [3, 0, 1]\n",
    "        generador = iter_repetido(count(), cycle(repeticiones))\n",
    "        r = 0\n",
    "        for i in range(num_iteraciones_test):\n",
    "            for _ in range(repeticiones[r]):\n",
    "                self.assertEqual(i, next(generador))\n",
    "            r = r + 1 \n",
    "            if r == len(repeticiones): r = 0            "
   ]
  },
  {
   "cell_type": "markdown",
   "metadata": {},
   "source": [
    "## Mezcla de iteradores ordenados\n",
    "Dados dos iteradores o iterables que generan valores ordenados, se quiere mezclar los elementos de ambos. La mezcla consiste en generar en orden los elementos de los dos iteradores."
   ]
  },
  {
   "cell_type": "markdown",
   "metadata": {},
   "source": [
    "### Función `iter_mezcla`"
   ]
  },
  {
   "cell_type": "code",
   "execution_count": null,
   "metadata": {},
   "outputs": [],
   "source": [
    "def iter_mezcla(iter_1, iter_2):\n",
    "    \"\"\"\n",
    "    Dados dos iteradores o iterables, suponiendo que ambos generan valores en\n",
    "    orden, se generan los elementos de ambos de manera ordenada.\n",
    "    La cantidad de memoria usada debe ser O(1).\n",
    "    \"\"\"\n",
    "\n",
    "    iter_1 = iter(iter_1)\n",
    "    iter_2 = iter(iter_2)\n",
    "\n",
    "    try:\n",
    "        v1 = next(iter_1)\n",
    "    except StopIteration:\n",
    "        yield from iter_2\n",
    "        return\n",
    "\n",
    "    try:\n",
    "        v2 = next(iter_2)\n",
    "    except StopIteration:\n",
    "        yield v1\n",
    "        yield from iter_1\n",
    "        return\n",
    "\n",
    "    while True:\n",
    "        if v1 < v2:\n",
    "            yield v1\n",
    "            try:\n",
    "                v1 = next(iter_1)\n",
    "            except StopIteration:\n",
    "                yield v2\n",
    "                yield from iter_2\n",
    "                return\n",
    "        else:\n",
    "            yield v2\n",
    "            try:\n",
    "                v2 = next(iter_2)\n",
    "            except StopIteration:\n",
    "                yield v1\n",
    "                yield from iter_1\n",
    "                return"
   ]
  },
  {
   "cell_type": "markdown",
   "metadata": {},
   "source": [
    "### Tests para `iter_mezcla`"
   ]
  },
  {
   "cell_type": "code",
   "execution_count": null,
   "metadata": {},
   "outputs": [],
   "source": [
    "class TestIterMezcla(unittest.TestCase):\n",
    "    \n",
    "    def setUp(self):\n",
    "        # Distintos casos de prueba formados por los dos iterables de entrada y\n",
    "        # un tercero con la salida esperada\n",
    "        self.casos_prueba = (\n",
    "            (range(100), range(100, 200), range(200)),\n",
    "            (range(0, 100, 2), range(1, 100, 2), range(100)),\n",
    "            (range(0, 100, 4), range(2, 100, 4), range(0, 100, 2)),\n",
    "            (range(0, 100), range(200, 300), \n",
    "             chain(range(0, 100), range(200, 300))),\n",
    "            (range(100), range(100), (x for x in range(100) for _ in range(2))),\n",
    "            (range(0, 100, 3), range(0, 100, 5), \n",
    "             sorted(chain(range(0, 100, 3), range(0, 100, 5)))),\n",
    "            (range(num_iteraciones_test), \n",
    "             range(num_iteraciones_test, 2*num_iteraciones_test),\n",
    "             range(2*num_iteraciones_test)),\n",
    "            (range(0, num_iteraciones_test, 2), \n",
    "             range(1, num_iteraciones_test, 2), \n",
    "             range(num_iteraciones_test)),\n",
    "            (range(num_iteraciones_test), range(num_iteraciones_test), \n",
    "             (x for x in range(num_iteraciones_test) for _ in range(2)))\n",
    "        )\n",
    "        \n",
    "    def test_1(self):\n",
    "        # Primera comprobación con los casos de prueba\n",
    "        for it_1, it_2, it_resultado in self.casos_prueba:\n",
    "            for v, w in zip_longest(iter_mezcla(it_1, it_2), it_resultado):\n",
    "                self.assertEqual(v, w) \n",
    "\n",
    "    def test_2(self):\n",
    "        # Segunda comprobación con los casos de prueba\n",
    "        # La diferencia con la primera es el orden en que se pasan los iterables\n",
    "        for it_1, it_2, it_resultado in self.casos_prueba:\n",
    "            for v, w in zip_longest(iter_mezcla(it_2, it_1), it_resultado):\n",
    "                self.assertEqual(v, w) \n"
   ]
  },
  {
   "cell_type": "markdown",
   "metadata": {},
   "source": [
    "## Ejecución de tests"
   ]
  },
  {
   "cell_type": "code",
   "execution_count": null,
   "metadata": {},
   "outputs": [],
   "source": [
    "if __name__ == '__main__':\n",
    "    unittest.main(argv=['first-arg-is-ignored'], exit=False)"
   ]
  }
 ],
 "metadata": {
  "kernelspec": {
   "display_name": "Python 3",
   "language": "python",
   "name": "python3"
  },
  "language_info": {
   "codemirror_mode": {
    "name": "ipython",
    "version": 3
   },
   "file_extension": ".py",
   "mimetype": "text/x-python",
   "name": "python",
   "nbconvert_exporter": "python",
   "pygments_lexer": "ipython3",
   "version": "3.6.12"
  }
 },
 "nbformat": 4,
 "nbformat_minor": 1
}
