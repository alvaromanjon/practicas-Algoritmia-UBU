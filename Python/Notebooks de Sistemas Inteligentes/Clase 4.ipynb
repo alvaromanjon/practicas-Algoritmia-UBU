{
 "cells": [
  {
   "cell_type": "markdown",
   "metadata": {
    "slideshow": {
     "slide_type": "-"
    }
   },
   "source": [
    "# Sistemas Inteligentes\n",
    "\n",
    "## Grado en Ingeniería Informática\n",
    "## Universidad de Burgos\n",
    "## José Francisco  Diez\n",
    "## Curso 2017-2018\n",
    "------"
   ]
  },
  {
   "cell_type": "markdown",
   "metadata": {
    "collapsed": true
   },
   "source": [
    "## Programación funcional\n",
    "\n",
    "### Funciones lambda\n",
    "\n",
    "Lambda es un operador para crear pequeñas funciones anónimas. Funciones que solo son necesarias en el punto en el que son creadas. Si una función va a usarse en muchos sitios es mejor usar una función con nombre.\n",
    "\n",
    "Generalmente se usan en combinación con filter(), map() o reduce().\n",
    "\n",
    "Es una característica adquirida de Lisp.\n",
    "\n",
    "La sintaxis es\n",
    "\n",
    "The general syntax of a lambda function is quite simple: \n",
    "\n",
    "\n",
    " **lambda** argumentos: expresión \n"
   ]
  },
  {
   "cell_type": "code",
   "execution_count": 2,
   "metadata": {},
   "outputs": [
    {
     "data": {
      "text/plain": [
       "9"
      ]
     },
     "execution_count": 2,
     "metadata": {},
     "output_type": "execute_result"
    }
   ],
   "source": [
    "# lo normal es usar lambda con map, filter o reduce\n",
    "# para probarla sola, le tenemos que dar un nombre.\n",
    "# así no se diferencia de definir una función con nombre\n",
    "# usando def\n",
    "suma=lambda a,b: a+b\n",
    "suma(4,5)"
   ]
  },
  {
   "cell_type": "markdown",
   "metadata": {},
   "source": [
    "### Map\n",
    "\n",
    "map() es una función que:\n",
    "- toma 2 o más argumentos.\n",
    "- el primer argumento es una función\n",
    "- los siguientes son sequencias\n",
    "- devuelve el resultado de aplicar la función a los elementos n-esimos de las secuencias.\n",
    "\n",
    "La función usada puede ser con o sin nombre (Normal o lambda), pero si es una función que no se va a usar en ningún otro sitio lo normal es que sea lambda.\n"
   ]
  },
  {
   "cell_type": "code",
   "execution_count": 7,
   "metadata": {},
   "outputs": [
    {
     "data": {
      "text/plain": [
       "[2, 3, 4, 5]"
      ]
     },
     "execution_count": 7,
     "metadata": {},
     "output_type": "execute_result"
    }
   ],
   "source": [
    "# 1º argumento: función que suma 1 a lo que le llegue\n",
    "# 2º argumento: secuencia 1,2,3,4\n",
    "# resultado: suma 1 a cada uno de los elementos de esa secuencia\n",
    "\n",
    "list(map(lambda x: x+1,[1,2,3,4]))"
   ]
  },
  {
   "cell_type": "code",
   "execution_count": 9,
   "metadata": {},
   "outputs": [
    {
     "data": {
      "text/plain": [
       "[11, 22, 33, 44]"
      ]
     },
     "execution_count": 9,
     "metadata": {},
     "output_type": "execute_result"
    }
   ],
   "source": [
    "# 1º argumento función que suma 2 elementos\n",
    "# 2º y 3º argumentos secuencias de números\n",
    "# resultado: suma los elementos en las posiciones 1, 2, ..., entre si\n",
    "\n",
    "\n",
    "list(map(lambda x,y: x+y,[1,2,3,4],[10,20,30,40]))"
   ]
  },
  {
   "cell_type": "markdown",
   "metadata": {},
   "source": [
    "### Filter\n",
    "\n",
    "Filtra los elementos de una secuencia. Devuelve aquellos para los que la función empleada devuelva True.\n",
    "\n",
    "Recibe:\n",
    "- Una función en el primer argumento.\n",
    "- Una secuencia.\n",
    "\n",
    "Devuelve:\n",
    "- Aquellos elementos para los que la función devuelva True.\n"
   ]
  },
  {
   "cell_type": "code",
   "execution_count": 14,
   "metadata": {},
   "outputs": [
    {
     "data": {
      "text/plain": [
       "[1, 3, 5, 7]"
      ]
     },
     "execution_count": 14,
     "metadata": {},
     "output_type": "execute_result"
    }
   ],
   "source": [
    "# x % 2 es cero para los pares. 0 se evalua a False\n",
    "# luego me quedo con los impares\n",
    "\n",
    "list(filter(lambda x: x % 2, [1,2,3,4,5,6,7,8]))\n"
   ]
  },
  {
   "cell_type": "markdown",
   "metadata": {},
   "source": [
    "### Reduce\n",
    "\n",
    "En python 3 reduce ha sido quitado del espacio de nombres de usuarios y ahora está en functools.\n",
    "\n",
    "Recibe:\n",
    "- Una función f\n",
    "- una secuencia [s1, s2, s3, ..., sn]\n",
    "\n",
    "Devuelve:\n",
    "- Un único valor. El resultado de aplicar la función f secuencialmente a todos los elementos de la secuencia.\n",
    "- con dos elementos hace f(s1,s2)\n",
    "- con tres elementos hace f(f(s1,s2),s3)\n",
    "- con cuatro f(f(f(s1,s2),s3),s4)\n",
    "- etc\n",
    "\n",
    "No se aconseja su uso cuando la función lambda sea más complicada que sumar, multiplicar, hallar maximos o similares. Permite hacer código muy compacto pero dificil de entender."
   ]
  },
  {
   "cell_type": "code",
   "execution_count": 15,
   "metadata": {},
   "outputs": [
    {
     "data": {
      "text/plain": [
       "100"
      ]
     },
     "execution_count": 15,
     "metadata": {},
     "output_type": "execute_result"
    }
   ],
   "source": [
    "import functools\n",
    "\n",
    "functools.reduce(lambda x,y: x+y, [10,20,30,40])\n"
   ]
  },
  {
   "cell_type": "markdown",
   "metadata": {},
   "source": [
    "### Paso de funciones a otras funciones\n",
    "\n",
    "En Python al igual que en otros lenguajes como Lisp, las funciones son entidades de primer nivel.\n",
    "\n",
    "En la programación funcional que las funciones sean un elemento de primer nivel significa que pueden aparecer en partes del código donde otras entidades de primer nivel, como valores primitivos u objetos. \n",
    "\n",
    "Es decir, podemos asignar una función a una variable o podemos podemos pasar una función como parámetro de otra."
   ]
  },
  {
   "cell_type": "code",
   "execution_count": 1,
   "metadata": {},
   "outputs": [
    {
     "name": "stdout",
     "output_type": "stream",
     "text": [
      "25\n",
      "4\n"
     ]
    }
   ],
   "source": [
    "def aplica(f,valor):\n",
    "    return f(valor)\n",
    "\n",
    "print(aplica(lambda x:x*x,5))\n",
    "print(aplica(lambda x:x-1,5))"
   ]
  },
  {
   "cell_type": "code",
   "execution_count": 5,
   "metadata": {},
   "outputs": [
    {
     "name": "stdout",
     "output_type": "stream",
     "text": [
      "cuenta en vertical\n",
      "cuenta en horizontal\n",
      "cuenta en diagonal 1\n",
      "cuenta en diagonal 2\n"
     ]
    },
    {
     "data": {
      "text/plain": [
       "[4, 3, 2, 2]"
      ]
     },
     "execution_count": 5,
     "metadata": {},
     "output_type": "execute_result"
    }
   ],
   "source": [
    "# si estas funciones contasen el numero de fichas identicas seguidas\n",
    "# en vertical, horizontal etc, se podría comprobar si hay ganador usando\n",
    "# un\n",
    "def cuentaVertical(tablero):\n",
    "    print(\"cuenta en vertical\")\n",
    "    return 4\n",
    "def cuentaHorizontal(tablero):\n",
    "    print(\"cuenta en horizontal\")\n",
    "    return 3\n",
    "def cuentaDiag1(tablero):\n",
    "    print(\"cuenta en diagonal 1\")\n",
    "    return 2\n",
    "def cuentaDiag2(tablero):\n",
    "    print(\"cuenta en diagonal 2\")\n",
    "    return 2\n",
    "\n",
    "tab = [] # esta vacio porque las funciones no cuentan realmente, son de ejemplo\n",
    "listaComprobaciones = [cuentaVertical, cuentaHorizontal, cuentaDiag1, cuentaDiag2]\n",
    "\n",
    "# saco las fichas iguales en cada dirección\n",
    "list(map(lambda f: f(tab),listaComprobaciones))\n",
    "\n"
   ]
  },
  {
   "cell_type": "markdown",
   "metadata": {},
   "source": [
    "## Compresiones (List Comprehension)\n",
    "\n",
    "Uso: producir una serie de valores a partir del procesamiento de otra serie. Al igual que map, filter y reduce.\n",
    "\n",
    "Forma:\n",
    "```Python\n",
    "[expresion for valor in iterable if condicion]\n",
    "```\n",
    "\n",
    "Equivalente a \n",
    "```Python\n",
    "resultado = []\n",
    "for valor in iterable :\n",
    "    if condicion :\n",
    "        resultado.append(expresion)\n",
    "```\n",
    "\n",
    "\n",
    "\n",
    "\n"
   ]
  },
  {
   "cell_type": "code",
   "execution_count": 20,
   "metadata": {},
   "outputs": [
    {
     "data": {
      "text/plain": [
       "[1, 4, 9, 16, 25, 36, 49, 64, 81]"
      ]
     },
     "execution_count": 20,
     "metadata": {},
     "output_type": "execute_result"
    }
   ],
   "source": [
    "cuadrados = [k * k for k in range(1, 10)]\n",
    "cuadrados\n"
   ]
  },
  {
   "cell_type": "code",
   "execution_count": 27,
   "metadata": {},
   "outputs": [
    {
     "data": {
      "text/plain": [
       "[1, 2, 5, 10]"
      ]
     },
     "execution_count": 27,
     "metadata": {},
     "output_type": "execute_result"
    }
   ],
   "source": [
    "n=10\n",
    "\n",
    "divisores = [k for k in range(1, n+1) if n % k == 0]\n",
    "divisores"
   ]
  },
  {
   "cell_type": "markdown",
   "metadata": {},
   "source": [
    "# ejercicios\n",
    "\n",
    "- Hacer el ejemplo de la suma de listas o el sumar uno a todos los elementos de la lista usando list comprehension.\n",
    "- Hacer el ejemplo del cuadrado con un map"
   ]
  },
  {
   "cell_type": "code",
   "execution_count": null,
   "metadata": {
    "collapsed": true
   },
   "outputs": [],
   "source": []
  }
 ],
 "metadata": {
  "kernelspec": {
   "display_name": "Python 3",
   "language": "python",
   "name": "python3"
  },
  "language_info": {
   "codemirror_mode": {
    "name": "ipython",
    "version": 3
   },
   "file_extension": ".py",
   "mimetype": "text/x-python",
   "name": "python",
   "nbconvert_exporter": "python",
   "pygments_lexer": "ipython3",
   "version": "3.6.2"
  }
 },
 "nbformat": 4,
 "nbformat_minor": 1
}
