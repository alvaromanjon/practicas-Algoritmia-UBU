{
 "cells": [
  {
   "cell_type": "markdown",
   "metadata": {
    "slideshow": {
     "slide_type": "-"
    }
   },
   "source": [
    "# Sistemas Inteligentes\n",
    "\n",
    "## Grado en Ingeniería Informática\n",
    "## Universidad de Burgos\n",
    "## José Francisco  Diez\n",
    "## Curso 2017-2018\n",
    "------"
   ]
  },
  {
   "cell_type": "markdown",
   "metadata": {
    "collapsed": true
   },
   "source": [
    "## Orientación a objetos.\n",
    "\n",
    "- No hay comprobación de tipos en compilación.\n",
    "- Se asume que el objeto soporta el conjunto de comportamientos definidos.\n",
    "    - Si esto no es así, produce error en tiempo de ejecución.\n",
    "\n",
    "### Encapsulación\n",
    "- No está soportada en python.\n",
    "- Se hace por convenio de nombres. Un miembro de una clase que comience por \"-\" es privado y no debería usarse fuera de la clase. Pero la responsabilidad de no usarla es del programador, porque técnicamente se puede hacer.\n",
    "---\n",
    "\n",
    "### Clases\n",
    "- Se definen con la palabra reservada **class** seguida del nombre de la clase, dos puntos y el cuerpo indentado.\n",
    "- El cuerpo incluye las definiciones de todos los métodos de la clase.\n",
    "- Los métodos se definen como funciones normales, pero con un parámetro especial llamado **self**.\n",
    "    - Este parámetro identifica la instancia sobre la que se invoca el método (como *this* en java).\n",
    "    - Al invocar el método no hay que pasar nada a **self**, se invoca con el resto de parámetros.\n",
    "- El constructor es un método especial llamado **\\__init\\__**    \n",
    "\n",
    "- Otro método especial es **\\__str\\__** que al invocarlo devuelve una representación de esa clase (equivalente al toString() de Java).\n",
    "- Similar a \\__str\\__ es **\\__repr\\__**. El  \\__str\\__ de una clase contenedor invocará el \\__repr\\__ de los objetos que están en su interior. Lo más fácil es que \\__repr\\__ sea una copia de \\__str\\__\n",
    "\n"
   ]
  },
  {
   "cell_type": "code",
   "execution_count": 1,
   "metadata": {},
   "outputs": [
    {
     "name": "stdout",
     "output_type": "stream",
     "text": [
      "Renault va a 0 km/h\n",
      "Seat va a 0 km/h\n",
      "Renault va a 3 km/h\n",
      "Seat va a 1 km/h\n",
      "Renault va a 0 km/h\n",
      "Seat va a 1 km/h\n"
     ]
    }
   ],
   "source": [
    "class Coche:\n",
    "    \"\"\" \n",
    "    Los comentarios con triple comilla son comentarios de clase o metodos\n",
    "    pueden ocupar varias lineas.\n",
    "    \"\"\"\n",
    "    def __init__(self,nombre):\n",
    "        self._nombre = nombre\n",
    "        self._velocidad = 0\n",
    "    def acelera(self):\n",
    "        self._velocidad=self._velocidad+1\n",
    "    def frena(self):\n",
    "        self._velocidad=0\n",
    "    def __str__(self):\n",
    "        return self._nombre+\" va a \"+str(self._velocidad)+\" km/h\"\n",
    "    def __repr__(self):\n",
    "        return self._nombre+\" va a \"+str(self._velocidad)+\" km/h\"\n",
    "\n",
    "coche1=Coche(\"Renault\")\n",
    "coche2=Coche(\"Seat\")\n",
    "print(coche1)\n",
    "print(coche2)\n",
    "coche1.acelera()\n",
    "coche1.acelera()\n",
    "coche1.acelera()\n",
    "coche2.acelera()\n",
    "print(coche1)\n",
    "print(coche2)\n",
    "coche1.frena()\n",
    "\n",
    "print(coche1)\n",
    "print(coche2)"
   ]
  },
  {
   "cell_type": "markdown",
   "metadata": {},
   "source": [
    "### Herencia\n",
    "\n",
    "Hay que indicar el nombre de la clase base entre paréntesis. Se redefinen los métodos y se añaden los atributos que sea necesario.\n",
    "\n",
    "Existe la posibilidad de herencia múltiple."
   ]
  },
  {
   "cell_type": "code",
   "execution_count": 2,
   "metadata": {},
   "outputs": [
    {
     "name": "stdout",
     "output_type": "stream",
     "text": [
      "Renault va a 0 km/h\n",
      "Ferrari va a 0 km/h\n",
      "Renault va a 2 km/h\n",
      "Ferrari va a 6 km/h\n"
     ]
    }
   ],
   "source": [
    "class CocheRapido(Coche):\n",
    "    \"\"\" \n",
    "    Coche rápido que acelera mucho más rápido\n",
    "    \"\"\"\n",
    "    def acelera(self):\n",
    "        self._velocidad=self._velocidad+3\n",
    "        \n",
    "coche1=Coche(\"Renault\")\n",
    "coche2=CocheRapido(\"Ferrari\")\n",
    "print(coche1)\n",
    "print(coche2)\n",
    "coche1.acelera()\n",
    "coche1.acelera()\n",
    "coche2.acelera()\n",
    "coche2.acelera()\n",
    "print(coche1)\n",
    "print(coche2)"
   ]
  },
  {
   "cell_type": "markdown",
   "metadata": {},
   "source": [
    "Si necesitamos redefinir el método **\\_\\_init\\_\\_** invocando al **\\_\\_init\\_\\_** de la clase base lo podemos hacer de la siguiente manera:\n",
    "\n",
    "```Python\n",
    "class Persona(object):\n",
    "    \"Clase que representa una persona.\"\n",
    "    def __init__(self, identificacion, nombre, apellido):\n",
    "        \"Constructor de Persona\"\n",
    "        self.identificacion = identificacion\n",
    "        self.nombre = nombre\n",
    "        self.apellido = apellido\n",
    "        \n",
    "        \n",
    "class Alumno(Persona):\n",
    "    \"Clase que representa a un alumno.\"\n",
    "    def __init__(self, identificacion, nombre, apellido, universidad):\n",
    "        \"Constructor de AlumnoFIUBA\"\n",
    "        # llamamos al constructor de Persona\n",
    "        Persona.__init__(self, identificacion, nombre, apellido) # aqui se invoca el constructor del padre\n",
    "        # agregamos el nuevo atributo\n",
    "        self.universidad = universidad\n",
    "\n",
    "\n",
    "```"
   ]
  },
  {
   "cell_type": "markdown",
   "metadata": {},
   "source": [
    "### Clases abstractas\n",
    "En python se conocen como ABCs (*Abstact Base Class*).\n",
    "- No pueden ser instanciadas.\n",
    "- Las clases concretas heredan de las abstractas y proporcionan implementaciones de los métodos declarados en la clase abstracta.\n",
    "\n",
    "Se puede definir una clase abstractas heredando de la clase **ABC** del módulo **abc**. Y se especifican con decoradores cuales son los métodos abstractos.\n",
    "\n"
   ]
  },
  {
   "cell_type": "code",
   "execution_count": 3,
   "metadata": {
    "collapsed": true
   },
   "outputs": [],
   "source": [
    "import abc\n",
    "from abc import ABC\n",
    "\n",
    "class CocheAbstracto(ABC):\n",
    "        @abc.abstractmethod\n",
    "        def quien_soy(self):\n",
    "            print(\"Soy un coche abstracto\")\n",
    "\n",
    "#coche = CocheAbstracto()\n",
    "#coche.quien_soy()\n",
    "# esto daría error"
   ]
  },
  {
   "cell_type": "code",
   "execution_count": 4,
   "metadata": {},
   "outputs": [
    {
     "name": "stdout",
     "output_type": "stream",
     "text": [
      "Soy un coche concreto\n"
     ]
    }
   ],
   "source": [
    "class CocheConcreto(CocheAbstracto):\n",
    "    \n",
    "    def quien_soy(self):\n",
    "        print(\"Soy un coche concreto\")\n",
    "\n",
    "coche = CocheConcreto()\n",
    "coche.quien_soy()\n",
    "    \n",
    "    \n",
    "\n"
   ]
  },
  {
   "cell_type": "markdown",
   "metadata": {},
   "source": [
    "## Módulos\n",
    "\n",
    "- Hay multitud de funciones (**print**) y clases (**list**) definidas en el espacio de nombres de usuario.\n",
    "- Pero otras funciones no están en el espacio de nombre de usuario y hay que añadirlas. Se pueden añadir bibliotecas adicionales haciendo uso de la sentencia **import**\n",
    "- Los modulos están estructurados en paquetes. Ej sound.effects.surround.py significa que el módulo surround está dentro del paquete sound en el subpaquete effects.\n",
    "\n",
    "\n"
   ]
  },
  {
   "cell_type": "markdown",
   "metadata": {},
   "source": [
    "- Importar elementos concretos con **from**. Queda accesible sin usar el nombre completo.\n",
    "\n",
    "```Python\n",
    "from math import pi, sqrt\n",
    "print(pi)\n",
    "\n",
    "```\n",
    "- Importar todo el modulo (No recomendable porque algunos nombres podrían estar ya en uso)\n",
    "\n",
    "```Python\n",
    "from math import *   \n",
    "```\n",
    "- Importar el modulo solo con **import**, se debe usar el nombre completo.\n",
    "\n",
    "```Python\n",
    "import math \n",
    "print(math.pi)\n",
    "```\n",
    "(Nota: si importas con *from*, ya vas a tener el nombre accesible, aunque luego lo borres e importes solo con *import*)\n",
    "    \n",
    "\n",
    "---\n",
    "\n",
    "Se puede crear un módulo simplemente creando un fichero con extensión **.py**\n",
    "- Las definiciones de dicho fichero se pueden importar desde cualquier otro modulo del mismo directorio. O desde el modulo *main*.\n",
    "El modulo main es el conjunto de variables y funciones que se pueden acceder desde el interprete."
   ]
  },
  {
   "cell_type": "code",
   "execution_count": 1,
   "metadata": {},
   "outputs": [
    {
     "data": {
      "text/plain": [
       "'__main__'"
      ]
     },
     "execution_count": 1,
     "metadata": {},
     "output_type": "execute_result"
    }
   ],
   "source": [
    "# __name__ te dice el nombre del modulo en el que estas\n",
    "__name__"
   ]
  },
  {
   "cell_type": "markdown",
   "metadata": {
    "collapsed": true
   },
   "source": [
    "- A parte de definiciones de variables y definiciones de funciones, un módulo puede tener más código. Ese código solo se ejecuta una vez, al importarlo.\n",
    "\n",
    "- Tambien se puede ejecutar un modulo como un programa. \n",
    "\n",
    "```Python\n",
    "if __name__ == \"__main__\":\n",
    "    import sys\n",
    "    fib(int(sys.argv[1]))\n",
    "```\n",
    "Si el módulo en el que está este fragmento se ejecuta desde el inteprete, entonces se invocan las expresiones que estén dentro de ese **if**"
   ]
  },
  {
   "cell_type": "code",
   "execution_count": 2,
   "metadata": {},
   "outputs": [
    {
     "name": "stdout",
     "output_type": "stream",
     "text": [
      "1 1 2 3 5 8 13 21 34 55 89 144 233 377 \n"
     ]
    }
   ],
   "source": [
    "# Para que esto funcione debe haber un fichero fibo.py en el mismo directorio\n",
    "\n",
    "from fibo import fib, fib2\n",
    "fib(500)"
   ]
  },
  {
   "cell_type": "code",
   "execution_count": 8,
   "metadata": {},
   "outputs": [
    {
     "name": "stdout",
     "output_type": "stream",
     "text": [
      "[[11 22]\n",
      " [33 44]]\n",
      "[[ 70 100]\n",
      " [150 220]]\n"
     ]
    }
   ],
   "source": [
    "import numpy\n",
    "\n",
    "a = [[1,2],[3,4]]\n",
    "\n",
    "b = [[10,20],[30,40]]\n",
    "\n",
    "\n",
    "a = numpy.matrix(a)\n",
    "b = numpy.matrix(b)\n",
    "\n",
    "c = a+b\n",
    "\n",
    "d = a*b\n",
    "\n",
    "print(c)\n",
    "\n",
    "print(d)"
   ]
  },
  {
   "cell_type": "markdown",
   "metadata": {
    "collapsed": true
   },
   "source": [
    "## Importar desde Notebooks (avanzado)\n",
    "\n",
    "En las prácticas vamos a importar desde Notebooks. \n",
    "\n",
    "En cada notebook haremos unas funciones de la práctica y luego se cargará todo junto para que funcione.\n",
    "\n",
    "Dicha importación siempre va a venir dada por el profesor, pero aún así os explicaré la forma en la que está hecha.\n",
    "\n",
    "El paquete **imp** contiene funciones para realizar programaticamente todo lo que podriamos hacer con **import*\n"
   ]
  },
  {
   "cell_type": "code",
   "execution_count": 4,
   "metadata": {
    "collapsed": true
   },
   "outputs": [],
   "source": [
    "def importCode(code, name, add_to_sys_modules=False):\n",
    "    \"\"\" \n",
    "    Esta función toma 'code' que puede ser una cadena, un fichero\n",
    "    o cualquier cosa con código y devuelve un objeto de tipo módulo\n",
    "    con dicho código en su interior\n",
    "    \"\"\"\n",
    "    import imp\n",
    "    module = imp.new_module(name)\n",
    "\n",
    "    if add_to_sys_modules:\n",
    "        import sys\n",
    "        sys.modules[name] = module\n",
    "    exec(code,module.__dict__)\n",
    "\n",
    "    return module\n",
    "\n",
    "\n",
    "codigo = \"\"\"\n",
    "cadena = \"hola\"\n",
    "def f1():\n",
    "    print(\"funcion f1\")\n",
    "\"\"\"\n",
    "\n",
    "modulo1 = importCode(codigo,\"modulo1\")"
   ]
  },
  {
   "cell_type": "code",
   "execution_count": 5,
   "metadata": {},
   "outputs": [
    {
     "data": {
      "text/plain": [
       "'hola'"
      ]
     },
     "execution_count": 5,
     "metadata": {},
     "output_type": "execute_result"
    }
   ],
   "source": [
    "modulo1.cadena"
   ]
  },
  {
   "cell_type": "code",
   "execution_count": 11,
   "metadata": {},
   "outputs": [
    {
     "name": "stdout",
     "output_type": "stream",
     "text": [
      "funcion f1\n"
     ]
    }
   ],
   "source": [
    "modulo1.f1()"
   ]
  },
  {
   "cell_type": "markdown",
   "metadata": {},
   "source": [
    "He creado un módulo \"modulo1\" a partir de un string en lugar de un fichero.py\n",
    "\n",
    "--------------\n",
    "\n",
    "\n",
    "**nbformat** es la clase que permite leer y escribir ficheros ipynb\n",
    "\n",
    "En el ejemplo de abajo se lee un notebook con un nombre determinado, se examinan sus celdas y si una celda es de típo código y empieza por la clave deseada lo carga dinamicamente.\n"
   ]
  },
  {
   "cell_type": "code",
   "execution_count": 6,
   "metadata": {},
   "outputs": [
    {
     "data": {
      "text/plain": [
       "'\\n# Cargar celda\\ndef funcionCargada():\\n    print(\"funcionCargada\")\\n# Cargar celda\\ndef funcionCargada2():\\n    print(\"funcionCargada2\")'"
      ]
     },
     "execution_count": 6,
     "metadata": {},
     "output_type": "execute_result"
    }
   ],
   "source": [
    "import io\n",
    "\n",
    "from nbformat import read\n",
    "\n",
    "\n",
    "path =\"Notebook de prueba.ipynb\"\n",
    "code_key = \"# Cargar celda\"\n",
    "\n",
    "# carga el notebook en la variable nb\n",
    "with io.open(path, 'r', encoding='utf-8') as f:\n",
    "    nb = read(f, 4)\n",
    "    \n",
    "\n",
    "    \n",
    "code_to_load = \"\"\n",
    "    \n",
    "# Carga las celdas de tipo code, que empiezan por \"# Cargar Celda\"\n",
    "for cell in nb.cells:\n",
    "    if cell.cell_type == 'code':\n",
    "        # accede al código y mira si empieza por el la clave\n",
    "        code = cell.source\n",
    "        if code.startswith(code_key):\n",
    "            # añade esta celda al codigo que se va a cargar\n",
    "            code_to_load=code_to_load+\"\\n\"+code \n",
    "            \n",
    "code_to_load"
   ]
  },
  {
   "cell_type": "code",
   "execution_count": 7,
   "metadata": {},
   "outputs": [
    {
     "name": "stdout",
     "output_type": "stream",
     "text": [
      "funcionCargada2\n"
     ]
    }
   ],
   "source": [
    "notebookCargado = importCode(code_to_load,\"modulo1\")\n",
    "notebookCargado.funcionCargada2()"
   ]
  }
 ],
 "metadata": {
  "kernelspec": {
   "display_name": "Python 3",
   "language": "python",
   "name": "python3"
  },
  "language_info": {
   "codemirror_mode": {
    "name": "ipython",
    "version": 3
   },
   "file_extension": ".py",
   "mimetype": "text/x-python",
   "name": "python",
   "nbconvert_exporter": "python",
   "pygments_lexer": "ipython3",
   "version": "3.6.2"
  }
 },
 "nbformat": 4,
 "nbformat_minor": 1
}
