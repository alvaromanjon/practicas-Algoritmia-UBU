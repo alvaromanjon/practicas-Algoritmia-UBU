{
 "cells": [
  {
   "cell_type": "markdown",
   "metadata": {
    "slideshow": {
     "slide_type": "slide"
    }
   },
   "source": [
    "# Sistemas Inteligentes\n",
    "\n",
    "## Grado en Ingeniería Informática\n",
    "## Universidad de Burgos\n",
    "## José Francisco  Diez\n",
    "## Curso 2017-2018\n",
    "------"
   ]
  },
  {
   "cell_type": "markdown",
   "metadata": {
    "slideshow": {
     "slide_type": "slide"
    }
   },
   "source": [
    "## Salida estándar\n",
    "La función print:\n",
    "- Por defecto imprime los argumentos separados por espacios y acaba con un salto de linea.\n",
    "- Tiene un número arbitrario de argumentos que modifican el funcionamiento por defecto.\n",
    "\n"
   ]
  },
  {
   "cell_type": "code",
   "execution_count": 1,
   "metadata": {
    "slideshow": {
     "slide_type": "fragment"
    }
   },
   "outputs": [
    {
     "name": "stdout",
     "output_type": "stream",
     "text": [
      "5 10 20\n",
      "5;10;20\n",
      "5 10 20 continua\n",
      "La temperatura es  5\n"
     ]
    }
   ],
   "source": [
    "a = 5; b=10; c = 20\n",
    "d = \"La temperatura es \"\n",
    "print(a,b,c)\n",
    "print(a,b,c, sep=\";\") # cambia el separador\n",
    "\n",
    "print(a,b,c, end=\" \") # cambia el terminador, de salto de linea a espacio\n",
    "print(\"continua\")  # la siguiente sale seguida\n",
    "\n",
    "print(d,a)"
   ]
  },
  {
   "cell_type": "markdown",
   "metadata": {
    "slideshow": {
     "slide_type": "slide"
    }
   },
   "source": [
    "## Entrada estandar\n",
    "- Muestra un mensaje (opcional) y espera que el usuario introduzca caracteres y pulse intro.\n",
    "- Devuelve una cadena, sin salto de linea.\n",
    "- Hay que convertir la cadena a otros tipos para trabajar con ellos."
   ]
  },
  {
   "cell_type": "code",
   "execution_count": null,
   "metadata": {
    "slideshow": {
     "slide_type": "fragment"
    }
   },
   "outputs": [],
   "source": [
    "a = input(\"introduce un numero \")\n",
    "print(\"introduciste el\", a)\n",
    "print(\"el tipo introducido es\", type(a))"
   ]
  },
  {
   "cell_type": "markdown",
   "metadata": {
    "slideshow": {
     "slide_type": "slide"
    }
   },
   "source": [
    "## Lectura y escritura e ficheros\n",
    "\n",
    "- Se utiliza la función open\n",
    "- El primer argumento es el nombre del fichero, el segundo el modo:\n",
    "    - 'r' lectura\n",
    "    - 'w' escritura\n",
    "    - 'r+' lectura y escritura\n",
    "    - 'w+' lectura y escritura (crea uno nuevo si no existe)\n",
    "    - 'rb' lectura binario\n",
    "    - 'wb' escritura binario.\n",
    "- close cierra el fichero\n",
    "\n",
    "Funciones importantes: \n",
    "- **read** Lee todo\n",
    "- **readline** Lee una linea\n",
    "- **readlines** Lee todo, devuelve una lista, donde cada elemento de la lista es una línea\n",
    "- **write** Escribe\n",
    "- **writelines** escribe una secuencia de lineas\n"
   ]
  },
  {
   "cell_type": "code",
   "execution_count": null,
   "metadata": {
    "slideshow": {
     "slide_type": "slide"
    }
   },
   "outputs": [],
   "source": [
    "fp = open('datos.txt') #por defecto lo abre en modo lectura\n",
    "\n",
    "contenido = fp.read()\n",
    "print(contenido)"
   ]
  },
  {
   "cell_type": "markdown",
   "metadata": {
    "slideshow": {
     "slide_type": "slide"
    }
   },
   "source": [
    "### Lectura"
   ]
  },
  {
   "cell_type": "code",
   "execution_count": null,
   "metadata": {
    "slideshow": {
     "slide_type": "fragment"
    }
   },
   "outputs": [],
   "source": [
    "fp.seek(0)     # Va al byte en la posición indicada (0 al principio)\n",
    "contenido = fp.read(5)  # solo lee 5 caracteres\n",
    "print(contenido)\n",
    "\n",
    "print(\"esta en la posicion\",fp.tell()) # devuelve la posicion\n",
    "\n",
    "fp.seek(0)     \n",
    "contenido = fp.readline() # lee una linea\n",
    "print(contenido)\n",
    "\n",
    "fp.seek(0)     \n",
    "lineas = fp.readlines()\n",
    "print(lineas)\n",
    "fp.close()"
   ]
  },
  {
   "cell_type": "markdown",
   "metadata": {
    "slideshow": {
     "slide_type": "slide"
    }
   },
   "source": [
    "### Escritura\n"
   ]
  },
  {
   "cell_type": "code",
   "execution_count": null,
   "metadata": {
    "slideshow": {
     "slide_type": "fragment"
    }
   },
   "outputs": [],
   "source": [
    "import os\n",
    "\n",
    "name = \"nuevo.txt\"\n",
    "if os.path.exists(name):\n",
    "    fp = open(name, \"r+\")\n",
    "else:\n",
    "    fp = open(name, \"w+\")\n",
    "\n",
    "fp.write(\"hola mundo\")    #escribe una linea\n",
    "\n",
    "seq = [\"Esto escribe\\n\", \"varias lineas\\n\"]\n",
    "fp.writelines(seq)   #escribe una secuencia de lineas\n",
    "\n",
    "print(\"Print tambien puede escribir a fichero\", file =fp)\n",
    "\n",
    "\n",
    "fp.seek(0)\n",
    "print(fp.read())\n",
    "fp.close()"
   ]
  },
  {
   "cell_type": "markdown",
   "metadata": {
    "slideshow": {
     "slide_type": "slide"
    }
   },
   "source": [
    "## Excepciones\n",
    "\n",
    "Las excepciones son objetos que se lanzan en sucesos inexperados durante la ejecución. \n",
    "- Si no se capturan causan que el programa se detenga y muestre mensaje de error.\n",
    "- Se pueden lanzar voluntariamente con *raise* y se pueden capturar con *try* - *except*\n",
    "    - *try* se ejecuta en caso normal\n",
    "    - *except* se ejecuta si hay excepcion\n",
    "    - *finally* (opciona), se ejecuta tanto en el caso normal como el excepcional, ejemplo cerrar ficheros abiertos\n",
    "    "
   ]
  },
  {
   "cell_type": "code",
   "execution_count": null,
   "metadata": {
    "slideshow": {
     "slide_type": "slide"
    }
   },
   "outputs": [],
   "source": [
    "import math  \n",
    "import sys\n",
    "\n",
    "def mysqrt (x ):\n",
    "    if not isinstance(x, (int , float )):\n",
    "        raise TypeError( 'x must be numeric' )\n",
    "    elif x < 0:\n",
    "        raise ValueError( 'x cannot be negative' )\n",
    "    else:\n",
    "        return math.sqrt(x)\n",
    "\n",
    "# ejemplo, comenta y descomenta para ver las dos opciones\n",
    "try:      \n",
    "    #mysqrt(-5)\n",
    "    mysqrt(\"Hola\")\n",
    "except ValueError:\n",
    "    print(\"Mensaje de error predeterminado: X no puede ser negativo\")\n",
    "except TypeError as te:\n",
    "    print(te)"
   ]
  },
  {
   "cell_type": "code",
   "execution_count": null,
   "metadata": {
    "slideshow": {
     "slide_type": "slide"
    }
   },
   "outputs": [],
   "source": [
    "def dividir(x, y):\n",
    "    try:\n",
    "        result = x / y\n",
    "        print(\"el resultado es\", result)\n",
    "    except ZeroDivisionError:\n",
    "        print(\"¡división por cero!\")\n",
    "    finally:\n",
    "        print(\"ejecutando la clausula finally\")\n",
    "\n",
    "dividir(2, 1)"
   ]
  },
  {
   "cell_type": "markdown",
   "metadata": {
    "slideshow": {
     "slide_type": "slide"
    }
   },
   "source": [
    "### Acciones predefinidas de limpieza\n",
    "\n",
    "Algunos objetos definen acciones de limpieza estándar que llevar a cabo cuando el objeto no es más necesitado, independientemente de que las operaciones sobre el objeto hayan sido exitosas o no. La declaración **with** permite que objetos como archivos sean usados de una forma que asegure que siempre se los libera rápido y en forma correcta.:\n",
    "\n",
    "```Python\n",
    "with open(\"miarchivo.txt\") as f:\n",
    "    for linea in f:\n",
    "        print(linea, end=\"\")\n",
    "```\n",
    "Luego de que la declaración sea ejecutada, el archivo f siempre es cerrado, incluso si se encuentra un problema al procesar las líneas. "
   ]
  },
  {
   "cell_type": "markdown",
   "metadata": {
    "slideshow": {
     "slide_type": "slide"
    }
   },
   "source": [
    "# Entrada y salida en jupyter (widgets)\n",
    "\n",
    "Los widgets proporcionan elementos interactivos dentro de los notebooks de jupyter.\n",
    "\n",
    "Para usarlos hay que importar desde ipywidgets\n",
    "```Python\n",
    "from ipywidgets import *\n",
    "```\n",
    "\n",
    "\n",
    "Un windget tiene dos partes:\n",
    "- Elemento UI/HTML que muestra se muestra en la celda.\n",
    "- Un *event handler* que deja especificar al programador que sucede cuando un valor cambia.\n",
    "\n",
    "Al crear un widget se muestra automáticamente. Se puede mostrar explicitamente usando *display()*\n",
    "\n"
   ]
  },
  {
   "cell_type": "code",
   "execution_count": null,
   "metadata": {
    "collapsed": true,
    "slideshow": {
     "slide_type": "slide"
    }
   },
   "outputs": [],
   "source": [
    "from ipywidgets import *\n"
   ]
  },
  {
   "cell_type": "code",
   "execution_count": null,
   "metadata": {
    "slideshow": {
     "slide_type": "fragment"
    }
   },
   "outputs": [],
   "source": [
    "IntSlider()"
   ]
  },
  {
   "cell_type": "code",
   "execution_count": 16,
   "metadata": {
    "slideshow": {
     "slide_type": "slide"
    }
   },
   "outputs": [
    {
     "data": {
      "application/vnd.jupyter.widget-view+json": {
       "model_id": "4927592d6d5f4df5b7b95cc2e19ccc2e"
      }
     },
     "metadata": {},
     "output_type": "display_data"
    },
    {
     "data": {
      "application/vnd.jupyter.widget-view+json": {
       "model_id": "4927592d6d5f4df5b7b95cc2e19ccc2e"
      }
     },
     "metadata": {},
     "output_type": "display_data"
    }
   ],
   "source": [
    "# se puede llamar explicitamente a display y se muestra varias veces\n",
    "\n",
    "from IPython.display import display\n",
    "w = IntSlider()\n",
    "display(w)\n",
    "display(w)\n",
    "\n",
    "# con w.close() le hariamos desaparecer"
   ]
  },
  {
   "cell_type": "code",
   "execution_count": 17,
   "metadata": {
    "slideshow": {
     "slide_type": "fragment"
    }
   },
   "outputs": [
    {
     "name": "stdout",
     "output_type": "stream",
     "text": [
      "0\n"
     ]
    }
   ],
   "source": [
    "# Los widgets tienen propiedades\n",
    "print(w.value)   # si modificas el valor y  se ejecuta esta celda se actualiza"
   ]
  },
  {
   "cell_type": "code",
   "execution_count": 18,
   "metadata": {
    "slideshow": {
     "slide_type": "fragment"
    }
   },
   "outputs": [
    {
     "name": "stdout",
     "output_type": "stream",
     "text": [
      "['_dom_classes', '_model_module', '_model_module_version', '_model_name', '_range', '_view_module', '_view_module_version', '_view_name', 'continuous_update', 'description', 'disabled', 'layout', 'max', 'min', 'msg_throttle', 'orientation', 'readout', 'readout_format', 'step', 'style', 'value']\n"
     ]
    }
   ],
   "source": [
    "# keys almacena todas las propiedades de un widget\n",
    "print(w.keys)\n",
    "w.value=50 # se pueden cambiar"
   ]
  },
  {
   "cell_type": "markdown",
   "metadata": {
    "slideshow": {
     "slide_type": "slide"
    }
   },
   "source": [
    "## Widgets para entrada/salida de texto\n",
    "\n"
   ]
  },
  {
   "cell_type": "code",
   "execution_count": null,
   "metadata": {
    "collapsed": true,
    "slideshow": {
     "slide_type": "slide"
    }
   },
   "outputs": [],
   "source": [
    "t=widgets.Text(\n",
    "    description='String:',\n",
    "    value='Hello World',\n",
    ")\n",
    "\n",
    "\n",
    "\n",
    "ta=widgets.Textarea(\n",
    "    description='String:',\n",
    "    value='Hello World',\n",
    ")\n",
    "\n",
    "display(t)\n",
    "display(ta)\n",
    "\n",
    "\n",
    "# se puede poner texto normal y también latex\n",
    "# a algunos alumnos no les funciona\n",
    "l=widgets.Label(value=\"$$\\\\frac{n!}{k!(n-k)!} = \\\\binom{n}{k}$$\")\n",
    "\n",
    "\n",
    "\n",
    "h=widgets.HTML(\n",
    "    value=\"Hello <b>World</b>\"\n",
    ")\n",
    "\n",
    "\n",
    "\n",
    "display(l)\n",
    "display(h)\n",
    "\n",
    "\n"
   ]
  },
  {
   "cell_type": "markdown",
   "metadata": {
    "slideshow": {
     "slide_type": "slide"
    }
   },
   "source": [
    "### Eventos"
   ]
  },
  {
   "cell_type": "code",
   "execution_count": 19,
   "metadata": {
    "slideshow": {
     "slide_type": "fragment"
    }
   },
   "outputs": [
    {
     "name": "stdout",
     "output_type": "stream",
     "text": [
      "has escrito 51\n"
     ]
    }
   ],
   "source": [
    "text=widgets.Text()\n",
    "display(text)\n",
    "\n",
    "# hay que definir una función 'handle' o manejador\n",
    "def handle_Text(sender):\n",
    "    print(\"has escrito\",sender.value)\n",
    "\n",
    "# esa función se ejecutara cuando se produzca el evento on_submit (pulsar intro)    \n",
    "text.on_submit(handle_Text)"
   ]
  },
  {
   "cell_type": "markdown",
   "metadata": {
    "slideshow": {
     "slide_type": "slide"
    }
   },
   "source": [
    "### Entrada salida numerica"
   ]
  },
  {
   "cell_type": "code",
   "execution_count": null,
   "metadata": {
    "slideshow": {
     "slide_type": "fragment"
    }
   },
   "outputs": [],
   "source": [
    "# Se puede usar un FloatText o IntText que funciona exactamente igual que Text\n",
    "\n",
    "# o se puede usar un slider, Slider no tiene eventos, sino que registra todos los cambios\n",
    "\n",
    "slider = widgets.FloatSlider(\n",
    "    value=7.5,\n",
    "    min=5.0,\n",
    "    max=10.0,\n",
    "    step=0.1,\n",
    "    description='Test:',\n",
    ")\n",
    "\n",
    "\n",
    "display(slider)\n",
    "\n",
    "def handle_slider(sender):\n",
    "    print(sender['new'])\n",
    "\n",
    "\n",
    "slider.observe(handle_slider,names='value')\n",
    "\n",
    "\n",
    "\n"
   ]
  },
  {
   "cell_type": "markdown",
   "metadata": {
    "slideshow": {
     "slide_type": "slide"
    }
   },
   "source": [
    "\n",
    "## Listas de opciones y booleanos"
   ]
  },
  {
   "cell_type": "code",
   "execution_count": 21,
   "metadata": {
    "collapsed": true,
    "slideshow": {
     "slide_type": "fragment"
    }
   },
   "outputs": [],
   "source": [
    "w = widgets.Dropdown(\n",
    "    options=['1', '2', '3'],\n",
    "    value='2',\n",
    "    description='Number:',\n",
    ")\n",
    "\n",
    "\n",
    "\n",
    "rb=widgets.RadioButtons(\n",
    "    description='Pizza topping:',\n",
    "    options=['pepperoni', 'pineapple', 'anchovies'],\n",
    ")\n",
    "\n",
    "\n",
    "\n",
    "s=widgets.Select(\n",
    "    description='OS:',\n",
    "    options=['Linux', 'Windows', 'OSX'],\n",
    ")\n",
    "\n",
    "tb=widgets.ToggleButtons(\n",
    "    description='Speed:',\n",
    "    options=['Slow', 'Regular', 'Fast'],\n",
    ")\n",
    "\n",
    "display(w)\n",
    "display(rb)\n",
    "display(s)\n",
    "display(tb)\n",
    "\n",
    "\n"
   ]
  },
  {
   "cell_type": "markdown",
   "metadata": {
    "slideshow": {
     "slide_type": "slide"
    }
   },
   "source": [
    "## Botones"
   ]
  },
  {
   "cell_type": "code",
   "execution_count": 22,
   "metadata": {
    "slideshow": {
     "slide_type": "fragment"
    }
   },
   "outputs": [
    {
     "name": "stdout",
     "output_type": "stream",
     "text": [
      "Button clicked.\n",
      "Button clicked.\n",
      "Button clicked.\n"
     ]
    }
   ],
   "source": [
    "button = widgets.Button(description=\"Click Me!\")\n",
    "display(button)\n",
    "\n",
    "def on_button_clicked(b):\n",
    "    print(\"Button clicked.\")\n",
    "\n",
    "button.on_click(on_button_clicked)"
   ]
  },
  {
   "cell_type": "markdown",
   "metadata": {
    "slideshow": {
     "slide_type": "slide"
    }
   },
   "source": [
    "### Interact \n",
    "\n",
    "A parte de los widgets mostrados arriba hay muchos mas \n",
    "http://nbviewer.jupyter.org/github/quantopian/ipython/blob/master/examples/Interactive%20Widgets/Widget%20List.ipynb\n",
    "http://ipywidgets.readthedocs.io/en/latest/examples/Widget%20List.html#\n",
    "\n",
    "Sin embargo no es necesario conocerlos todos, ni como se llaman sus eventos y propiedades. Existe una forma de crear widgets automáticamente: *interact*"
   ]
  },
  {
   "cell_type": "code",
   "execution_count": 25,
   "metadata": {
    "slideshow": {
     "slide_type": "fragment"
    }
   },
   "outputs": [
    {
     "name": "stdout",
     "output_type": "stream",
     "text": [
      "adios\n"
     ]
    }
   ],
   "source": [
    "def f(x):\n",
    "    print(x)\n",
    "    \n",
    "# Interact recibe 2 parámetros.\n",
    "# el primero es la función que trabaja con el segundo\n",
    "interact(f,x=10)\n",
    "interact(f,x=True)\n",
    "interact(f,x=\"Hola\")"
   ]
  },
  {
   "cell_type": "code",
   "execution_count": 26,
   "metadata": {
    "slideshow": {
     "slide_type": "slide"
    }
   },
   "outputs": [
    {
     "name": "stdout",
     "output_type": "stream",
     "text": [
      "Hola\n"
     ]
    }
   ],
   "source": [
    "# interactive es como interact pero en lugar de mostrar el widget\n",
    "# lo devuelve para que hagamos con el lo que queramos\n",
    "widget=interactive(f,x=\"Hola\")\n",
    "\n",
    "display(widget)"
   ]
  },
  {
   "cell_type": "markdown",
   "metadata": {
    "collapsed": true,
    "slideshow": {
     "slide_type": "slide"
    }
   },
   "source": [
    "## Contenedores\n",
    "\n",
    "(ojo, a veces no funciona, usar preferentemente chrome)\n",
    "\n",
    "Los contenedores permiten agrupar elementos gráficos dandoles una determinada disposición. Los más sencillos son la caja horizontal y la caja vertical"
   ]
  },
  {
   "cell_type": "code",
   "execution_count": 27,
   "metadata": {
    "collapsed": true,
    "slideshow": {
     "slide_type": "slide"
    }
   },
   "outputs": [],
   "source": [
    "\n",
    "b1 = Button(description=\"Arriba\")\n",
    "b2 = Button(description=\"Abajo\")\n",
    "\n",
    "b3 = Button(description=\"Derecha\")\n",
    "b4 = Button(description=\"izquierda\")\n",
    "\n",
    "box1=VBox([b1,b2])\n",
    "box2=HBox([b3,b4])\n",
    "\n",
    "\n",
    "box3=HBox([box1,box2])\n",
    "\n"
   ]
  },
  {
   "cell_type": "code",
   "execution_count": 28,
   "metadata": {
    "collapsed": true,
    "slideshow": {
     "slide_type": "fragment"
    }
   },
   "outputs": [],
   "source": [
    "display(box1)"
   ]
  },
  {
   "cell_type": "code",
   "execution_count": 29,
   "metadata": {
    "collapsed": true,
    "slideshow": {
     "slide_type": "fragment"
    }
   },
   "outputs": [],
   "source": [
    "display(box2)\n"
   ]
  },
  {
   "cell_type": "code",
   "execution_count": 30,
   "metadata": {
    "collapsed": true,
    "slideshow": {
     "slide_type": "fragment"
    }
   },
   "outputs": [],
   "source": [
    "display(box3)\n"
   ]
  },
  {
   "cell_type": "code",
   "execution_count": 31,
   "metadata": {
    "collapsed": true,
    "slideshow": {
     "slide_type": "slide"
    }
   },
   "outputs": [],
   "source": [
    "#### Otro ejemplo\n",
    "\n",
    "\n",
    "up = Button(description=\"^\")\n",
    "down = Button(description=\"v\")\n",
    "\n",
    "\n",
    "right = Button(description=\">\")\n",
    "left = Button(description=\"<\")\n",
    "\n",
    "empty=Button(description=\" \")\n",
    "empty.margin=1\n",
    "\n",
    "box4=VBox([HBox([empty,up,empty]),HBox([left,down,right])])\n",
    "\n",
    "display(box4)\n"
   ]
  },
  {
   "cell_type": "markdown",
   "metadata": {
    "collapsed": true,
    "slideshow": {
     "slide_type": "slide"
    }
   },
   "source": [
    "En las prácticas la interfaz gráfica se proporcionará por el profesor, pero el alumno puede modificarla libremente para hacer el juego/aplicación más atractivo y/o realista."
   ]
  }
 ],
 "metadata": {
  "anaconda-cloud": {},
  "celltoolbar": "Slideshow",
  "kernelspec": {
   "display_name": "Python 3",
   "language": "python",
   "name": "python3"
  },
  "language_info": {
   "codemirror_mode": {
    "name": "ipython",
    "version": 3
   },
   "file_extension": ".py",
   "mimetype": "text/x-python",
   "name": "python",
   "nbconvert_exporter": "python",
   "pygments_lexer": "ipython3",
   "version": "3.6.2"
  },
  "widgets": {
   "state": {
    "07cb889602f14c779970613d49c7bb56": {
     "views": [
      {
       "cell_index": 18
      },
      {
       "cell_index": 18
      }
     ]
    },
    "0ddab75fcb5540adb8ceb9554e673491": {
     "views": [
      {
       "cell_index": 28
      }
     ]
    },
    "22f687d326e44d099fb5965c824438b9": {
     "views": [
      {
       "cell_index": 22
      }
     ]
    },
    "2de2f55921d742f6b05e54b651d25a1f": {
     "views": [
      {
       "cell_index": 26
      }
     ]
    },
    "2e7ca4620c5b46eea79a8124a6361c7c": {
     "views": [
      {
       "cell_index": 22
      }
     ]
    },
    "3c06020bb9604127a8d20ee20520c24b": {
     "views": [
      {
       "cell_index": 28
      }
     ]
    },
    "3c33ee597fb74bde92dc7818361b6c77": {
     "views": [
      {
       "cell_index": 28
      }
     ]
    },
    "3e70238cf0634774bc51158f04e63915": {
     "views": [
      {
       "cell_index": 22
      }
     ]
    },
    "446288a86dc24a3f90dbd9ea52c9e203": {
     "views": [
      {
       "cell_index": 32
      }
     ]
    },
    "46eb45e50bb240d6893e1b36f46d4ab5": {
     "views": [
      {
       "cell_index": 22
      }
     ]
    },
    "481f8f4210d34dfda6c6cdb82d667075": {
     "views": [
      {
       "cell_index": 30
      }
     ]
    },
    "4c526c6288e3450bad994b8df4989105": {
     "views": [
      {
       "cell_index": 23
      }
     ]
    },
    "4f05b94c13114e9bac378289aece9419": {
     "views": [
      {
       "cell_index": 38
      }
     ]
    },
    "516145aa485a4b0e87be5b8a6b1a4229": {
     "views": [
      {
       "cell_index": 22
      }
     ]
    },
    "59fe2eb19b2844fc8b84acbf4c984dd1": {
     "views": [
      {
       "cell_index": 32
      }
     ]
    },
    "659cd11c35db4f0a9fb19f714044314a": {
     "views": [
      {
       "cell_index": 28
      }
     ]
    },
    "6987a6c4f5954a9bab6a2ff8962b9e71": {
     "views": [
      {
       "cell_index": 36
      }
     ]
    },
    "76feee4c350c40cf8db4f4f7ba3f4896": {
     "views": [
      {
       "cell_index": 23
      }
     ]
    },
    "77d4b01b6c41447aab3e19e9f5e8f9d3": {
     "views": [
      {
       "cell_index": 22
      }
     ]
    },
    "7eae3d291bae41cbaa2d3fc2aa2a98ac": {
     "views": [
      {
       "cell_index": 18
      }
     ]
    },
    "83d1ba5f4791473d9aab16ffacc67560": {
     "views": [
      {
       "cell_index": 37
      }
     ]
    },
    "90e2dd56022d481394a9018253680f6c": {
     "views": [
      {
       "cell_index": 39
      }
     ]
    },
    "b47a1dcbf1584344ad2464ef56c6173c": {
     "views": [
      {
       "cell_index": 32
      }
     ]
    },
    "c829284239ed437586054539e6f234aa": {
     "views": [
      {
       "cell_index": 32
      }
     ]
    },
    "cae2d174a5894fabaeb588676bdbcb42": {
     "views": [
      {
       "cell_index": 17
      }
     ]
    },
    "d47f3f1c0af64638933beeecd0f1a2e5": {
     "views": [
      {
       "cell_index": 24
      }
     ]
    },
    "d5576ac80df5424d95735d7ea09c7b1f": {
     "views": [
      {
       "cell_index": 22
      }
     ]
    },
    "de5e324d4e124f55a9fb30789784829b": {
     "views": [
      {
       "cell_index": 22
      }
     ]
    },
    "dfb33ee649e24a76b693dd30835ea0ce": {
     "views": [
      {
       "cell_index": 32
      }
     ]
    },
    "e0abc947bb3440d39ab30d1a26c05009": {
     "views": [
      {
       "cell_index": 22
      }
     ]
    },
    "ed1207e5868f42e08fc282a9839b52c4": {
     "views": [
      {
       "cell_index": 23
      }
     ]
    },
    "f71d2834bb264c808f3f4559e30d3bd8": {
     "views": [
      {
       "cell_index": 33
      }
     ]
    },
    "f818b30e4fb44a81b78c4a3bdf8f6d40": {
     "views": [
      {
       "cell_index": 22
      }
     ]
    },
    "fb257269ec5b4201a68ea62c372a22f8": {
     "views": [
      {
       "cell_index": 22
      }
     ]
    }
   },
   "version": "1.2.0"
  }
 },
 "nbformat": 4,
 "nbformat_minor": 1
}
